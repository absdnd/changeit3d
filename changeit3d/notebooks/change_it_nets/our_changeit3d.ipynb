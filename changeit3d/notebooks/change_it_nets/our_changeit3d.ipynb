{
 "cells": [
  {
   "cell_type": "code",
   "execution_count": null,
   "metadata": {},
   "outputs": [],
   "source": [
    "import torch\n",
    "import numpy as np\n",
    "import os.path as osp\n",
    "from functools import partial\n",
    "\n",
    "from changeit3d.in_out.changeit3d_net import prepare_input_data\n",
    "from changeit3d.in_out.language_contrastive_dataset import LanguageContrastiveDataset\n",
    "from changeit3d.in_out.pointcloud import pc_loader_from_npz, uniform_subsample\n",
    "from changeit3d.in_out.basics import pickle_data\n",
    "from changeit3d.in_out.basics import create_logger\n",
    "from changeit3d.in_out.arguments import parse_evaluate_changeit3d_arguments\n",
    "\n",
    "from changeit3d.utils.basics import parallel_apply\n",
    "from changeit3d.models.model_descriptions import load_pretrained_changeit3d_net\n",
    "from changeit3d.models.model_descriptions import load_pretrained_pc_ae\n",
    "\n",
    "from changeit3d.evaluation.auxiliary import pc_ae_transform_point_clouds, sgf_transform_point_clouds\n",
    "from changeit3d.external_tools.sgf.loader import initialize_and_load_sgf\n",
    "from changeit3d.utils.visualization import visualize_point_clouds_3d_v2, plot_3d_point_cloud\n",
    "\n",
    "\n",
    "%load_ext autoreload\n",
    "%autoreload 2"
   ]
  },
  {
   "cell_type": "markdown",
   "metadata": {},
   "source": [
    "##\n",
    "## Manually specify the underlying files using our pretrained nets or yours\n",
    "##\n",
    "\n",
    "shape_generator_type = \"sgf\"\n",
    "\n",
    "top_data_dir = '../../data'\n",
    "shape_talk_file = f'{top_data_dir}/shapetalk/language/shapetalk_preprocessed_public_version_0.csv'\n",
    "vocab_file = f'{top_data_dir}/shapetalk/language/vocabulary.pkl'\n",
    "top_pc_dir = f'{top_data_dir}/shapetalk/point_clouds/scaled_to_align_rendering'\n",
    "pretrained_oracle_listener = f'{top_data_dir}/pretrained/listeners/oracle_listener/all_shapetalk_classes/rs_2023/listener_dgcnn_based/ablation1/best_model.pkl'\n",
    "pretrained_shape_classifier =  f'{top_data_dir}/pretrained/pc_classifiers/rs_2022/all_shapetalk_classes/best_model.pkl'\n",
    "shape_part_classifiers_top_dir = f'{top_data_dir}/pretrained/part_predictors/shapenet_core_based'\n",
    "latent_codes_file = f'{top_data_dir}/pretrained/shape_latents/{shape_generator_type}_latent_codes.pkl'\n",
    "\n",
    "\n",
    "### PC-AE based:    \n",
    "if shape_generator_type == \"pcae\":    \n",
    "    pretrained_shape_generator = f'{top_data_dir}/pretrained/pc_autoencoders/pointnet/rs_2022/points_4096/all_classes/scaled_to_align_rendering/08-07-2022-22-23-42/best_model.pt'\n",
    "    ## selected PC-AE ablation:         \n",
    "    selected_ablation = 'decoupling_mag_direction/idpen_0.05_sc_True/' # decoupled and with self-contrast=True\n",
    "    \n",
    "### SGF-AE based:        \n",
    "if shape_generator_type == \"sgf\":    \n",
    "    selected_ablation = 'decoupling_mag_direction/idpen_0.05_sc_True/'        \n",
    "    sub_sample_dataset = '100' # just evaluate over 100 randomly selected test shapes\n",
    "\n",
    "pretrained_changeit3d = f'{top_data_dir}/pretrained/changers/{shape_generator_type}_based/all_shapetalk_classes/{selected_ablation}/best_model.pt'"
   ]
  },
  {
   "cell_type": "code",
   "execution_count": null,
   "metadata": {},
   "outputs": [],
   "source": [
    "notebook_arguments = []\n",
    "\n",
    "notebook_arguments.extend(['-shape_talk_file', shape_talk_file])\n",
    "notebook_arguments.extend(['-latent_codes_file', latent_codes_file])\n",
    "notebook_arguments.extend(['-vocab_file', vocab_file])\n",
    "notebook_arguments.extend(['-pretrained_changeit3d', pretrained_changeit3d])\n",
    "notebook_arguments.extend(['-top_pc_dir', top_pc_dir])\n",
    "notebook_arguments.extend(['--shape_generator_type', shape_generator_type])\n",
    "notebook_arguments.extend(['--pretrained_oracle_listener', pretrained_oracle_listener])\n",
    "notebook_arguments.extend(['--pretrained_shape_classifier', pretrained_shape_classifier])\n",
    "notebook_arguments.extend(['--shape_part_classifiers_top_dir', shape_part_classifiers_top_dir])\n",
    "\n",
    "if 'pretrained_shape_generator' in  locals():\n",
    "    notebook_arguments.extend(['--pretrained_shape_generator', pretrained_shape_generator])\n",
    "\n",
    "if 'sub_sample_dataset' in  locals():\n",
    "    notebook_arguments.extend(['--sub_sample_dataset', sub_sample_dataset])    \n",
    "    \n",
    "\n",
    "args = parse_evaluate_changeit3d_arguments(notebook_arguments)\n",
    "logger = create_logger(args.log_dir)"
   ]
  }
 ],
 "metadata": {
  "language_info": {
   "name": "python"
  },
  "orig_nbformat": 4
 },
 "nbformat": 4,
 "nbformat_minor": 2
}
